{
 "cells": [
  {
   "cell_type": "markdown",
   "id": "0c85a3d0-339f-41dc-9767-88c36261e009",
   "metadata": {},
   "source": [
    "# Библиотеки"
   ]
  },
  {
   "cell_type": "code",
   "execution_count": 1,
   "id": "6bb60888-3478-4715-b6b4-006287ecf97a",
   "metadata": {},
   "outputs": [],
   "source": [
    "import numpy as np"
   ]
  },
  {
   "cell_type": "markdown",
   "id": "cc6320e0-1af6-4b8c-8ef9-fe069caec2bc",
   "metadata": {},
   "source": [
    "# Создание массивов"
   ]
  },
  {
   "cell_type": "code",
   "execution_count": 2,
   "id": "707558a3-9bfb-42db-b862-9718a0b01fb5",
   "metadata": {},
   "outputs": [
    {
     "data": {
      "text/plain": [
       "(array([[[[ 0.,  1.],\n",
       "          [ 2.,  3.]],\n",
       " \n",
       "         [[ 4.,  5.],\n",
       "          [ 6.,  7.]]],\n",
       " \n",
       " \n",
       "        [[[ 8.,  9.],\n",
       "          [10., 11.]],\n",
       " \n",
       "         [[12., 13.],\n",
       "          [14., 15.]]]], dtype=float32),\n",
       " (2, 2, 2, 2),\n",
       " dtype('float32'))"
      ]
     },
     "execution_count": 2,
     "metadata": {},
     "output_type": "execute_result"
    }
   ],
   "source": [
    "mas = np.array([i for i in range(16)], dtype=np.float32)\n",
    "mas = mas.reshape(2, 2, 2, -1)\n",
    "mas, mas.shape, mas.dtype"
   ]
  },
  {
   "cell_type": "code",
   "execution_count": 3,
   "id": "283f5709-a146-478b-a06b-8dd79621a0eb",
   "metadata": {},
   "outputs": [
    {
     "data": {
      "text/plain": [
       "(3, (4, 2, 2), dtype('float32'))"
      ]
     },
     "execution_count": 3,
     "metadata": {},
     "output_type": "execute_result"
    }
   ],
   "source": [
    "mas.shape = 4, 2, 2\n",
    "mas.ndim, mas.shape, mas.dtype # число осей, размер, тип данных"
   ]
  },
  {
   "cell_type": "code",
   "execution_count": 4,
   "id": "65af7580-4a3f-4a92-b2ec-4c74f3279922",
   "metadata": {},
   "outputs": [
    {
     "data": {
      "text/plain": [
       "array([[[   0,    0,    0,    0,    0,    0, -128,   63],\n",
       "        [   0,    0,    0,   64,    0,    0,   64,   64]],\n",
       "\n",
       "       [[   0,    0, -128,   64,    0,    0,  -96,   64],\n",
       "        [   0,    0,  -64,   64,    0,    0,  -32,   64]],\n",
       "\n",
       "       [[   0,    0,    0,   65,    0,    0,   16,   65],\n",
       "        [   0,    0,   32,   65,    0,    0,   48,   65]],\n",
       "\n",
       "       [[   0,    0,   64,   65,    0,    0,   80,   65],\n",
       "        [   0,    0,   96,   65,    0,    0,  112,   65]]], dtype=int8)"
      ]
     },
     "execution_count": 4,
     "metadata": {},
     "output_type": "execute_result"
    }
   ],
   "source": [
    "mas.dtype = np.int8\n",
    "mas"
   ]
  },
  {
   "cell_type": "markdown",
   "id": "df23d9b5-2dee-456b-87ef-6b0ef59e8240",
   "metadata": {},
   "source": [
    "## Создание массивов"
   ]
  },
  {
   "cell_type": "code",
   "execution_count": 5,
   "id": "ba657d70-9ddb-463a-b718-779a4b29bf22",
   "metadata": {},
   "outputs": [
    {
     "data": {
      "text/plain": [
       "array([[0., 0.],\n",
       "       [0., 0.],\n",
       "       [0., 0.],\n",
       "       [0., 0.],\n",
       "       [0., 0.],\n",
       "       [0., 0.],\n",
       "       [0., 0.]])"
      ]
     },
     "execution_count": 5,
     "metadata": {},
     "output_type": "execute_result"
    }
   ],
   "source": [
    "np.empty((7, 2))"
   ]
  },
  {
   "cell_type": "code",
   "execution_count": 6,
   "id": "c6be22f7-4717-447e-8054-80618dfee660",
   "metadata": {},
   "outputs": [
    {
     "data": {
      "text/plain": [
       "array([[1., 1.],\n",
       "       [1., 1.],\n",
       "       [1., 1.],\n",
       "       [1., 1.],\n",
       "       [1., 1.],\n",
       "       [1., 1.],\n",
       "       [1., 1.]])"
      ]
     },
     "execution_count": 6,
     "metadata": {},
     "output_type": "execute_result"
    }
   ],
   "source": [
    "np.ones((7, 2))"
   ]
  },
  {
   "cell_type": "code",
   "execution_count": 7,
   "id": "79d1543b-2dd5-4ad2-bbff-6e144cc4441b",
   "metadata": {},
   "outputs": [
    {
     "data": {
      "text/plain": [
       "array([[[1, 1, 1, 1, 1, 1, 1, 1],\n",
       "        [1, 1, 1, 1, 1, 1, 1, 1]],\n",
       "\n",
       "       [[1, 1, 1, 1, 1, 1, 1, 1],\n",
       "        [1, 1, 1, 1, 1, 1, 1, 1]],\n",
       "\n",
       "       [[1, 1, 1, 1, 1, 1, 1, 1],\n",
       "        [1, 1, 1, 1, 1, 1, 1, 1]],\n",
       "\n",
       "       [[1, 1, 1, 1, 1, 1, 1, 1],\n",
       "        [1, 1, 1, 1, 1, 1, 1, 1]]], dtype=int8)"
      ]
     },
     "execution_count": 7,
     "metadata": {},
     "output_type": "execute_result"
    }
   ],
   "source": [
    "np.ones_like(mas)"
   ]
  },
  {
   "cell_type": "code",
   "execution_count": 8,
   "id": "be10eea9-8f94-439d-9acd-d47f970a6e35",
   "metadata": {},
   "outputs": [
    {
     "data": {
      "text/plain": [
       "array([[0., 0.],\n",
       "       [0., 0.],\n",
       "       [0., 0.],\n",
       "       [0., 0.],\n",
       "       [0., 0.],\n",
       "       [0., 0.],\n",
       "       [0., 0.]])"
      ]
     },
     "execution_count": 8,
     "metadata": {},
     "output_type": "execute_result"
    }
   ],
   "source": [
    "np.zeros((7, 2))"
   ]
  },
  {
   "cell_type": "code",
   "execution_count": 9,
   "id": "8915d065-a990-426a-9a7e-493a0f5a010c",
   "metadata": {},
   "outputs": [
    {
     "data": {
      "text/plain": [
       "array([[2, 2],\n",
       "       [2, 2],\n",
       "       [2, 2],\n",
       "       [2, 2],\n",
       "       [2, 2],\n",
       "       [2, 2],\n",
       "       [2, 2]])"
      ]
     },
     "execution_count": 9,
     "metadata": {},
     "output_type": "execute_result"
    }
   ],
   "source": [
    "np.full((7, 2), 2) # like везде можно / заполняет одним числом"
   ]
  },
  {
   "cell_type": "code",
   "execution_count": 10,
   "id": "e3ef66c1-7075-4c9f-9870-f324dff07d45",
   "metadata": {},
   "outputs": [
    {
     "data": {
      "text/plain": [
       "array([10. , 19.5, 29. , 38.5, 48. , 57.5, 67. , 76.5, 86. , 95.5])"
      ]
     },
     "execution_count": 10,
     "metadata": {},
     "output_type": "execute_result"
    }
   ],
   "source": [
    "np.arange(10, 100, 9.5)"
   ]
  },
  {
   "cell_type": "markdown",
   "id": "866d8d80-0cd5-41d3-a28b-fe65d992b320",
   "metadata": {},
   "source": [
    "# Создание матриц"
   ]
  },
  {
   "cell_type": "code",
   "execution_count": 11,
   "id": "ba51ab4b-be1e-49d0-b175-312280b2b082",
   "metadata": {},
   "outputs": [
    {
     "data": {
      "text/plain": [
       "matrix([[1, 2, 3, 4, 5]])"
      ]
     },
     "execution_count": 11,
     "metadata": {},
     "output_type": "execute_result"
    }
   ],
   "source": [
    "np.mat((1, 2, 3, 4, 5)) # вернет матрицу 1*5"
   ]
  },
  {
   "cell_type": "code",
   "execution_count": 12,
   "id": "31786ea9-d977-4012-b307-5729e3cf4f05",
   "metadata": {},
   "outputs": [
    {
     "data": {
      "text/plain": [
       "matrix([[1, 2, 3, 4, 5],\n",
       "        [1, 2, 3, 4, 5]])"
      ]
     },
     "execution_count": 12,
     "metadata": {},
     "output_type": "execute_result"
    }
   ],
   "source": [
    "np.mat(((1, 2, 3, 4, 5), (1, 2, 3, 4, 5))) # вернет матрицу 2*5"
   ]
  },
  {
   "cell_type": "code",
   "execution_count": 13,
   "id": "29bb1c4a-6cff-41d2-91ef-bacea683cf70",
   "metadata": {},
   "outputs": [
    {
     "data": {
      "text/plain": [
       "array([[1, 0, 0, 0, 0],\n",
       "       [0, 2, 0, 0, 0],\n",
       "       [0, 0, 3, 0, 0],\n",
       "       [0, 0, 0, 4, 0],\n",
       "       [0, 0, 0, 0, 5]])"
      ]
     },
     "execution_count": 13,
     "metadata": {},
     "output_type": "execute_result"
    }
   ],
   "source": [
    "np.diag((1, 2, 3, 4, 5)) # может вернуть диагональную матрицу или элементы диагонали если передать матрицу"
   ]
  },
  {
   "cell_type": "code",
   "execution_count": 14,
   "id": "68455358-e856-40c9-b89b-f9a6fdbc969d",
   "metadata": {},
   "outputs": [
    {
     "name": "stdout",
     "output_type": "stream",
     "text": [
      "[[0 1 2]\n",
      " [3 4 5]\n",
      " [6 7 8]]\n",
      "\n",
      "[0 4 8]\n"
     ]
    }
   ],
   "source": [
    "mas = np.array([i for i in range(9)]).reshape(3, 3)\n",
    "print(mas)\n",
    "print()\n",
    "print(np.diag(mas))"
   ]
  },
  {
   "cell_type": "code",
   "execution_count": 15,
   "id": "bcf3d707-6648-423c-9903-8778ad1e5e5b",
   "metadata": {},
   "outputs": [
    {
     "data": {
      "text/plain": [
       "array([[0, 0, 0, 0, 0, 0, 0, 0, 0],\n",
       "       [0, 1, 0, 0, 0, 0, 0, 0, 0],\n",
       "       [0, 0, 2, 0, 0, 0, 0, 0, 0],\n",
       "       [0, 0, 0, 3, 0, 0, 0, 0, 0],\n",
       "       [0, 0, 0, 0, 4, 0, 0, 0, 0],\n",
       "       [0, 0, 0, 0, 0, 5, 0, 0, 0],\n",
       "       [0, 0, 0, 0, 0, 0, 6, 0, 0],\n",
       "       [0, 0, 0, 0, 0, 0, 0, 7, 0],\n",
       "       [0, 0, 0, 0, 0, 0, 0, 0, 8]])"
      ]
     },
     "execution_count": 15,
     "metadata": {},
     "output_type": "execute_result"
    }
   ],
   "source": [
    "np.diagflat(mas) # все значения передаваемого массива становятся значениями диагонали"
   ]
  },
  {
   "cell_type": "code",
   "execution_count": 16,
   "id": "e940b5a6-5e5f-42ae-b2e5-534f6651adc4",
   "metadata": {},
   "outputs": [
    {
     "data": {
      "text/plain": [
       "array([[1., 0., 0., 0., 0.],\n",
       "       [0., 1., 0., 0., 0.],\n",
       "       [0., 0., 1., 0., 0.]])"
      ]
     },
     "execution_count": 16,
     "metadata": {},
     "output_type": "execute_result"
    }
   ],
   "source": [
    "np.eye(3, 5) # единицы на главной диагонали"
   ]
  },
  {
   "cell_type": "code",
   "execution_count": 17,
   "id": "f9aa0d4f-98d9-4517-b0d2-1e6048f20a52",
   "metadata": {},
   "outputs": [
    {
     "data": {
      "text/plain": [
       "array([[1., 0., 0., 0., 0.],\n",
       "       [0., 1., 0., 0., 0.],\n",
       "       [0., 0., 1., 0., 0.],\n",
       "       [0., 0., 0., 1., 0.],\n",
       "       [0., 0., 0., 0., 1.]])"
      ]
     },
     "execution_count": 17,
     "metadata": {},
     "output_type": "execute_result"
    }
   ],
   "source": [
    "np.identity(5) # строго единичная матрица"
   ]
  },
  {
   "cell_type": "code",
   "execution_count": 18,
   "id": "08c87e72-2a45-468e-a9b7-b6ff2ddc3eab",
   "metadata": {},
   "outputs": [
    {
     "data": {
      "text/plain": [
       "array([[1., 0., 0., 0., 0., 0.],\n",
       "       [1., 1., 0., 0., 0., 0.],\n",
       "       [1., 1., 1., 0., 0., 0.]])"
      ]
     },
     "execution_count": 18,
     "metadata": {},
     "output_type": "execute_result"
    }
   ],
   "source": [
    "np.tri(3, 6) # нижняя треугольная матрица"
   ]
  },
  {
   "cell_type": "code",
   "execution_count": 19,
   "id": "e07c565e-5329-44d8-bf09-ecac6d8edc40",
   "metadata": {},
   "outputs": [
    {
     "data": {
      "text/plain": [
       "array([[ 0,  0,  0,  0],\n",
       "       [ 4,  5,  0,  0],\n",
       "       [ 8,  9, 10,  0],\n",
       "       [12, 13, 14, 15]])"
      ]
     },
     "execution_count": 19,
     "metadata": {},
     "output_type": "execute_result"
    }
   ],
   "source": [
    "mas = np.array([i for i in range(16)]).reshape(4, -1)\n",
    "np.tril(mas) # нижняя триугольная матрица по из переданного массива"
   ]
  },
  {
   "cell_type": "code",
   "execution_count": 20,
   "id": "edb2dc4b-eb2a-469f-9bb5-dbfa8e0a0c64",
   "metadata": {},
   "outputs": [
    {
     "data": {
      "text/plain": [
       "array([[1, 0, 0],\n",
       "       [1, 2, 0],\n",
       "       [1, 2, 3]])"
      ]
     },
     "execution_count": 20,
     "metadata": {},
     "output_type": "execute_result"
    }
   ],
   "source": [
    "np.tril([1, 2, 3])"
   ]
  },
  {
   "cell_type": "code",
   "execution_count": 21,
   "id": "10125c41-dc7f-4ed1-96ce-6c9c9cb79986",
   "metadata": {},
   "outputs": [
    {
     "data": {
      "text/plain": [
       "array([[ 0,  1,  2,  3],\n",
       "       [ 0,  5,  6,  7],\n",
       "       [ 0,  0, 10, 11],\n",
       "       [ 0,  0,  0, 15]])"
      ]
     },
     "execution_count": 21,
     "metadata": {},
     "output_type": "execute_result"
    }
   ],
   "source": [
    "np.triu(mas) # верхняя треугольная матрица"
   ]
  },
  {
   "cell_type": "markdown",
   "id": "7c1f01ef-d79f-42dd-9c2b-bd06d387236f",
   "metadata": {},
   "source": [
    "# Создание копий, изменение формы массивов"
   ]
  },
  {
   "cell_type": "code",
   "execution_count": 22,
   "id": "df7141bf-ef2d-4a86-8eae-0374a8e12eae",
   "metadata": {},
   "outputs": [
    {
     "data": {
      "text/plain": [
       "array([[ 0,  1,  2,  3],\n",
       "       [ 4,  5,  6,  7],\n",
       "       [ 8,  9, 10, 11]])"
      ]
     },
     "execution_count": 22,
     "metadata": {},
     "output_type": "execute_result"
    }
   ],
   "source": [
    "mas = np.array([i for i in range(12)]).reshape(3, -1)\n",
    "mas"
   ]
  },
  {
   "cell_type": "code",
   "execution_count": 23,
   "id": "7ffe11f9-376b-42d5-89bc-7f928adf5781",
   "metadata": {},
   "outputs": [
    {
     "data": {
      "text/plain": [
       "array([[ 0,  1,  2,  3,  4,  5],\n",
       "       [ 6,  7,  8,  9, 10, 11]])"
      ]
     },
     "execution_count": 23,
     "metadata": {},
     "output_type": "execute_result"
    }
   ],
   "source": [
    "mas.shape = -1, 6 # заполнение происходит так: берет числа по порядку в строки\n",
    "mas # меняет сам массив"
   ]
  },
  {
   "cell_type": "code",
   "execution_count": 24,
   "id": "69e86111-1780-4218-81e1-3e28a1d0c009",
   "metadata": {},
   "outputs": [
    {
     "data": {
      "text/plain": [
       "array([[[ 0,  1,  2],\n",
       "        [ 3,  4,  5]],\n",
       "\n",
       "       [[ 6,  7,  8],\n",
       "        [ 9, 10, 11]]])"
      ]
     },
     "execution_count": 24,
     "metadata": {},
     "output_type": "execute_result"
    }
   ],
   "source": [
    "new_mas = mas.reshape(-1, 2, 3) \n",
    "new_mas"
   ]
  },
  {
   "cell_type": "code",
   "execution_count": 25,
   "id": "49296fbd-e5ee-4b1d-bc7f-34bba4909c5a",
   "metadata": {},
   "outputs": [
    {
     "data": {
      "text/plain": [
       "(array([[  0,   1,   2,   3,   4,   5],\n",
       "        [  6, 100,   8,   9,  10,  11]]),\n",
       " array([[[  0,   1,   2],\n",
       "         [  3,   4,   5]],\n",
       " \n",
       "        [[  6, 100,   8],\n",
       "         [  9,  10,  11]]]))"
      ]
     },
     "execution_count": 25,
     "metadata": {},
     "output_type": "execute_result"
    }
   ],
   "source": [
    "mas[1, 1] = 100\n",
    "mas, new_mas"
   ]
  },
  {
   "cell_type": "raw",
   "id": "4cb5938d-00b2-4468-bf3b-108f50b53823",
   "metadata": {},
   "source": [
    "mas.resize((4, 2), refcheck=False) # по идее должен менять размер забив на всё\n",
    "mas"
   ]
  },
  {
   "cell_type": "code",
   "execution_count": 26,
   "id": "5c2c64ca-348e-413e-87a9-57395d325876",
   "metadata": {},
   "outputs": [
    {
     "data": {
      "text/plain": [
       "array([[0, 1, 2],\n",
       "       [3, 0, 0],\n",
       "       [0, 0, 0],\n",
       "       [0, 0, 0],\n",
       "       [0, 0, 0]])"
      ]
     },
     "execution_count": 26,
     "metadata": {},
     "output_type": "execute_result"
    }
   ],
   "source": [
    "b = np.array([[0, 1], [2, 3]])\n",
    "b.resize(5, 3) # new_shape parameter doesn't have to be a tuple\n",
    "b"
   ]
  },
  {
   "cell_type": "code",
   "execution_count": 27,
   "id": "9a2037c1-a8b6-4835-8043-5d8f439a5704",
   "metadata": {},
   "outputs": [
    {
     "data": {
      "text/plain": [
       "array([  0,   1,   2,   3,   4,   5,   6, 100,   8,   9,  10,  11])"
      ]
     },
     "execution_count": 27,
     "metadata": {},
     "output_type": "execute_result"
    }
   ],
   "source": [
    "mas.ravel() # разворачивает в вектор"
   ]
  },
  {
   "cell_type": "markdown",
   "id": "13b60fc0-de62-4030-9ac2-b522c5f19ca6",
   "metadata": {},
   "source": [
    "## Копии"
   ]
  },
  {
   "cell_type": "code",
   "execution_count": 28,
   "id": "1edd1217-2c33-4a47-b584-2d7d7fd98f9c",
   "metadata": {},
   "outputs": [
    {
     "data": {
      "text/plain": [
       "(array([[  0,   1],\n",
       "        [  2,   3],\n",
       "        [  4,   5],\n",
       "        [  6, 100],\n",
       "        [  8,   9],\n",
       "        [ 10,  11]]),\n",
       " array([[  0,   1,   2,   3,   4,   5],\n",
       "        [  6, 100,   8,   9,  10,  11]]))"
      ]
     },
     "execution_count": 28,
     "metadata": {},
     "output_type": "execute_result"
    }
   ],
   "source": [
    "new_mas = mas.view().reshape((6, 2)) # создаёт копию представления\n",
    "# данные одни, а размеры можно менять\n",
    "new_mas, mas"
   ]
  },
  {
   "cell_type": "code",
   "execution_count": 29,
   "id": "7e1fe785-90c2-400b-a8c4-9e6d9d6059d6",
   "metadata": {},
   "outputs": [],
   "source": [
    "new_mas = mas.copy() # полная копия"
   ]
  },
  {
   "cell_type": "markdown",
   "id": "058f0766-4c94-474f-9116-696150edfe9a",
   "metadata": {},
   "source": [
    "# Добавление осей, разделение массивов"
   ]
  },
  {
   "cell_type": "code",
   "execution_count": 30,
   "id": "fd302643-10c9-43c5-b0f1-eb5c57b285c1",
   "metadata": {},
   "outputs": [
    {
     "data": {
      "text/plain": [
       "array([[[  0,   1,   2,   3,   4,   5],\n",
       "        [  6, 100,   8,   9,  10,  11]]])"
      ]
     },
     "execution_count": 30,
     "metadata": {},
     "output_type": "execute_result"
    }
   ],
   "source": [
    "np_array = mas\n",
    "new_array = np.expand_dims(np_array, axis=0) # добавляет новую ось и возвращает новое представление массива\n",
    "new_array"
   ]
  },
  {
   "cell_type": "code",
   "execution_count": 31,
   "id": "24c54486-d9d8-4652-a45f-192c2a2ea8c9",
   "metadata": {},
   "outputs": [
    {
     "name": "stdout",
     "output_type": "stream",
     "text": [
      "(2, 6)\n",
      "(1, 2, 6)\n",
      "(2, 1, 6)\n",
      "(2, 6, 1)\n"
     ]
    }
   ],
   "source": [
    "print(np_array.shape)\n",
    "new_array = np_array[np.newaxis] # добавит нулувую ось\n",
    "print(new_array.shape)\n",
    "new_array = np_array[:, np.newaxis] # добавит gthde. ось\n",
    "print(new_array.shape)\n",
    "new_array = np_array[..., np.newaxis] # добавит последнюю ось\n",
    "print(new_array.shape)"
   ]
  },
  {
   "cell_type": "code",
   "execution_count": 32,
   "id": "50270c79-39c6-4317-a6bd-331e57991e83",
   "metadata": {},
   "outputs": [
    {
     "name": "stdout",
     "output_type": "stream",
     "text": [
      "(2, 6, 1)\n",
      "(2, 6)\n"
     ]
    }
   ],
   "source": [
    "print(new_array.shape)\n",
    "new_array = np.squeeze(new_array) # удаляет оси на которых один элемент\n",
    "print(new_array.shape)"
   ]
  },
  {
   "cell_type": "code",
   "execution_count": 33,
   "id": "fb213831-059b-4a69-ac68-4b66e27d0574",
   "metadata": {},
   "outputs": [
    {
     "name": "stdout",
     "output_type": "stream",
     "text": [
      "(3, 3)\n",
      "[[0 1 2]\n",
      " [3 4 5]\n",
      " [6 7 8]]\n",
      "\n",
      "(3, 3)\n",
      "[[ 9 10 11]\n",
      " [12 13 14]\n",
      " [15 16 17]]\n",
      "\n",
      "(3, 4)\n",
      "[[18 19 20 21]\n",
      " [22 23 24 25]\n",
      " [26 27 28 29]]\n",
      "\n"
     ]
    }
   ],
   "source": [
    "ar_1 = np.array([i for i in range(9)]).reshape(3, 3)\n",
    "ar_2 = np.array([i for i in range(9, 18)]).reshape(3, 3)\n",
    "ar_3 = np.array([i for i in range(18, 30)]).reshape(3, 4)\n",
    "print(ar_1.shape, ar_1, sep='\\n', end='\\n\\n')\n",
    "print(ar_2.shape, ar_2, sep='\\n', end='\\n\\n')\n",
    "print(ar_3.shape, ar_3, sep='\\n', end='\\n\\n')"
   ]
  },
  {
   "attachments": {
    "2bd31aac-54fe-4a2b-a7d4-80897ecd37a1.png": {
     "image/png": "[encoded data removed]"
    }
   },
   "cell_type": "markdown",
   "id": "187de173-4a68-473b-8a13-47e43a6f50c5",
   "metadata": {},
   "source": [
    "![image.png](attachment:2bd31aac-54fe-4a2b-a7d4-80897ecd37a1.png)"
   ]
  },
  {
   "cell_type": "code",
   "execution_count": 34,
   "id": "e6cf8cec-99f7-41c4-a0db-412c76cf29be",
   "metadata": {},
   "outputs": [
    {
     "name": "stdout",
     "output_type": "stream",
     "text": [
      "(3, 10)\n",
      "[[ 0  1  2  9 10 11 18 19 20 21]\n",
      " [ 3  4  5 12 13 14 22 23 24 25]\n",
      " [ 6  7  8 15 16 17 26 27 28 29]]\n",
      "\n"
     ]
    }
   ],
   "source": [
    "new_ar = np.hstack([ar_1, ar_2, ar_3]) # объдиняет по первой оси - все размеры кроме первой оси должны совпадать\n",
    "print(new_ar.shape, new_ar, sep='\\n', end='\\n\\n')"
   ]
  },
  {
   "cell_type": "code",
   "execution_count": 35,
   "id": "cc59cee8-10b9-4079-a7f3-a0fbd7d89a86",
   "metadata": {},
   "outputs": [
    {
     "name": "stdout",
     "output_type": "stream",
     "text": [
      "(4, 3)\n",
      "[[18 19 20]\n",
      " [21 22 23]\n",
      " [24 25 26]\n",
      " [27 28 29]]\n",
      "\n",
      "(10, 3)\n",
      "[[ 0  1  2]\n",
      " [ 3  4  5]\n",
      " [ 6  7  8]\n",
      " [ 9 10 11]\n",
      " [12 13 14]\n",
      " [15 16 17]\n",
      " [18 19 20]\n",
      " [21 22 23]\n",
      " [24 25 26]\n",
      " [27 28 29]]\n",
      "\n"
     ]
    }
   ],
   "source": [
    "ar_3 = ar_3.reshape(-1, 3)\n",
    "print(ar_3.shape, ar_3, sep='\\n', end='\\n\\n')\n",
    "new_ar = np.vstack([ar_1, ar_2, ar_3]) # то же но по нулевой\n",
    "print(new_ar.shape, new_ar, sep='\\n', end='\\n\\n') # тот же пример к растинкой, только разрезы теперь вертикальные"
   ]
  },
  {
   "cell_type": "code",
   "execution_count": 36,
   "id": "691d1b39-af3a-4595-a4ed-ab9f69e8d374",
   "metadata": {},
   "outputs": [],
   "source": [
    "new_ar = np.concatenate([ar_1, ar_2, ar_3], axis=0) # можно объединять массивы по любой оси\n",
    "# число элементов на всех осях кроме той на которой объединяем должно быть одинаковое"
   ]
  },
  {
   "cell_type": "code",
   "execution_count": 37,
   "id": "eabffb9a-9bdf-45d2-95f6-5789dfd4c2ee",
   "metadata": {},
   "outputs": [
    {
     "data": {
      "text/plain": [
       "array([['x_0', 'y_0'],\n",
       "       ['x_1', 'y_1'],\n",
       "       ['x_2', 'y_2'],\n",
       "       ['x_3', 'y_3']], dtype='<U3')"
      ]
     },
     "execution_count": 37,
     "metadata": {},
     "output_type": "execute_result"
    }
   ],
   "source": [
    "np_ar = np.array([(f'x_{i}', f'y_{i}') for i in range(4)]).reshape(-1, 2)\n",
    "np_ar"
   ]
  },
  {
   "cell_type": "code",
   "execution_count": 38,
   "id": "b4846137-d24e-47d3-81b4-9d9cf4b8121f",
   "metadata": {},
   "outputs": [
    {
     "data": {
      "text/plain": [
       "[array([['x_0', 'y_0']], dtype='<U3'),\n",
       " array([['x_1', 'y_1']], dtype='<U3'),\n",
       " array([['x_2', 'y_2']], dtype='<U3'),\n",
       " array([['x_3', 'y_3']], dtype='<U3')]"
      ]
     },
     "execution_count": 38,
     "metadata": {},
     "output_type": "execute_result"
    }
   ],
   "source": [
    "ar_lst = np.array_split(np_ar, 4, axis=0) # 4 - на сколько частей делить массив\n",
    "ar_lst# возвращает список массивов"
   ]
  },
  {
   "cell_type": "code",
   "execution_count": 39,
   "id": "642c32a7-c648-46c3-93a6-d9cab50d46a1",
   "metadata": {},
   "outputs": [
    {
     "data": {
      "text/plain": [
       "[array([['x_0'],\n",
       "        ['x_1'],\n",
       "        ['x_2'],\n",
       "        ['x_3']], dtype='<U3'),\n",
       " array([['y_0'],\n",
       "        ['y_1'],\n",
       "        ['y_2'],\n",
       "        ['y_3']], dtype='<U3')]"
      ]
     },
     "execution_count": 39,
     "metadata": {},
     "output_type": "execute_result"
    }
   ],
   "source": [
    "ar_lst = np.array_split(np_ar, 2, axis=1) # 2 - на сколько частей делить массив\n",
    "ar_lst# возвращает список массивов, представления"
   ]
  },
  {
   "cell_type": "markdown",
   "id": "70fd14e3-eefb-4b3d-bd59-7722ccedc76f",
   "metadata": {},
   "source": [
    "# Добавление и удаление элементов"
   ]
  },
  {
   "cell_type": "code",
   "execution_count": 40,
   "id": "52c111b9-0ed5-4b10-82ac-e30b2e2b4a80",
   "metadata": {},
   "outputs": [
    {
     "name": "stdout",
     "output_type": "stream",
     "text": [
      "Размер data: (1000, 28, 28)\n",
      "\n",
      "Размер ar_1: (50, 28, 28)\n",
      "\n",
      "Размер ar_2: (28, 28)\n",
      "\n"
     ]
    }
   ],
   "source": [
    "data = np.empty([1000, 28, 28])\n",
    "ar_1 = np.empty([50, 28, 28])\n",
    "ar_2 = np.empty([28, 28])\n",
    "\n",
    "print(f'Размер data: {data.shape}', end='\\n\\n')\n",
    "print(f'Размер ar_1: {ar_1.shape}', end='\\n\\n')\n",
    "print(f'Размер ar_2: {ar_2.shape}', end='\\n\\n')"
   ]
  },
  {
   "cell_type": "code",
   "execution_count": 41,
   "id": "b7ac6248-bf3e-4f93-83e6-a24fd8eafb98",
   "metadata": {},
   "outputs": [
    {
     "data": {
      "text/plain": [
       "(823200,)"
      ]
     },
     "execution_count": 41,
     "metadata": {},
     "output_type": "execute_result"
    }
   ],
   "source": [
    "new_data = np.append(data, ar_1) # data - к кому дабавляем, ar_1 - что добавляем\n",
    "new_data.shape # создает копию"
   ]
  },
  {
   "cell_type": "code",
   "execution_count": 42,
   "id": "153747c6-91db-4307-aab7-28b76681e0c0",
   "metadata": {},
   "outputs": [
    {
     "data": {
      "text/plain": [
       "(1050, 28, 28)"
      ]
     },
     "execution_count": 42,
     "metadata": {},
     "output_type": "execute_result"
    }
   ],
   "source": [
    "new_data = np.append(data, ar_1, axis=0) # data - к кому дабавляем, ar_1 - что добавляем\n",
    "new_data.shape"
   ]
  },
  {
   "cell_type": "code",
   "execution_count": 43,
   "id": "fd1c4f16-e375-49ce-9183-6f04b9bcdefc",
   "metadata": {},
   "outputs": [
    {
     "data": {
      "text/plain": [
       "(50, 56, 28)"
      ]
     },
     "execution_count": 43,
     "metadata": {},
     "output_type": "execute_result"
    }
   ],
   "source": [
    "new_data = np.append(ar_1, ar_1, axis=1) # data - к кому дабавляем, ar_1 - что добавляем\n",
    "new_data.shape"
   ]
  },
  {
   "cell_type": "markdown",
   "id": "0824bf84-7d7c-43f4-9807-f73fb00f0d78",
   "metadata": {},
   "source": [
    "## Когда число осей не совпадает"
   ]
  },
  {
   "cell_type": "code",
   "execution_count": 44,
   "id": "1d3a9f67-91eb-4549-b6ea-906484b5154c",
   "metadata": {},
   "outputs": [
    {
     "data": {
      "text/plain": [
       "(1001, 28, 28)"
      ]
     },
     "execution_count": 44,
     "metadata": {},
     "output_type": "execute_result"
    }
   ],
   "source": [
    "new_data = np.append(data, ar_2[np.newaxis], axis=0) # data - к кому дабавляем, ar_1 - что добавляем\n",
    "new_data.shape"
   ]
  },
  {
   "cell_type": "markdown",
   "id": "9ad23ad2-8926-49b0-aa05-d466b3cc94ee",
   "metadata": {},
   "source": [
    "## Удаление"
   ]
  },
  {
   "cell_type": "code",
   "execution_count": 45,
   "id": "cd5aa068-c291-4645-8924-2372fdc07ef9",
   "metadata": {},
   "outputs": [
    {
     "data": {
      "text/plain": [
       "(1000, 28, 28)"
      ]
     },
     "execution_count": 45,
     "metadata": {},
     "output_type": "execute_result"
    }
   ],
   "source": [
    "new_data = np.delete(new_data, 100, axis=0) # где, индекс элемента\n",
    "new_data.shape"
   ]
  },
  {
   "cell_type": "markdown",
   "id": "ea86cae2-f127-44f3-b1b5-45fadc79b857",
   "metadata": {},
   "source": [
    "## Ускорение добавления в массив большого числа единичных массивов\n",
    "Просто ресайзнуть нужный массив до нужного размера и заменить элементы"
   ]
  },
  {
   "cell_type": "code",
   "execution_count": 46,
   "id": "b966ef7c-f1bb-452d-8a82-dc38e3c6c851",
   "metadata": {},
   "outputs": [
    {
     "name": "stdout",
     "output_type": "stream",
     "text": [
      "CPU times: total: 4.31 s\n",
      "Wall time: 5.57 s\n"
     ]
    }
   ],
   "source": [
    "%%time\n",
    "ar = np.empty([1000, 28, 28])\n",
    "\n",
    "for i in range(1000):\n",
    "    img = np.random.randint(0, 255, 28*28).reshape((28, 28))\n",
    "    ar = np.append(ar, img[np.newaxis], axis=0)"
   ]
  },
  {
   "cell_type": "code",
   "execution_count": 47,
   "id": "3dbfc0ae-09d0-4675-a25d-a98da4e2e026",
   "metadata": {},
   "outputs": [
    {
     "name": "stdout",
     "output_type": "stream",
     "text": [
      "CPU times: total: 62.5 ms\n",
      "Wall time: 81.3 ms\n"
     ]
    }
   ],
   "source": [
    "%%time\n",
    "ar = np.empty([1000, 28, 28])\n",
    "ar.resize([2000, 28, 28])\n",
    "\n",
    "for i in range(1000):\n",
    "    img = np.random.randint(0, 255, 28*28).reshape((28, 28))\n",
    "    ar[1000 + i] = img"
   ]
  },
  {
   "cell_type": "markdown",
   "id": "c6edf6c5-bb00-4ac4-8361-9759f86ba37e",
   "metadata": {},
   "source": [
    "# Индексация и срезы"
   ]
  },
  {
   "cell_type": "code",
   "execution_count": 48,
   "id": "5da3e012-ba52-408d-a14e-2c52bb095e78",
   "metadata": {},
   "outputs": [
    {
     "data": {
      "text/plain": [
       "((3, 3, 2),\n",
       " array([[[ 0,  1],\n",
       "         [ 2,  3],\n",
       "         [ 4,  5]],\n",
       " \n",
       "        [[ 6,  7],\n",
       "         [ 8,  9],\n",
       "         [10, 11]],\n",
       " \n",
       "        [[12, 13],\n",
       "         [14, 15],\n",
       "         [16, 17]]]))"
      ]
     },
     "execution_count": 48,
     "metadata": {},
     "output_type": "execute_result"
    }
   ],
   "source": [
    "arr = np.arange(18).reshape(-1, 3, 2)\n",
    "arr.shape, arr"
   ]
  },
  {
   "cell_type": "code",
   "execution_count": 49,
   "id": "dbf9cc63-e83f-428e-a8ef-8309786deaa7",
   "metadata": {},
   "outputs": [
    {
     "data": {
      "text/plain": [
       "array([[0, 1],\n",
       "       [2, 3],\n",
       "       [4, 5]])"
      ]
     },
     "execution_count": 49,
     "metadata": {},
     "output_type": "execute_result"
    }
   ],
   "source": [
    "arr[0]"
   ]
  },
  {
   "cell_type": "code",
   "execution_count": 50,
   "id": "83ec3319-c2f7-4a62-bffb-41cce44f1e23",
   "metadata": {},
   "outputs": [
    {
     "data": {
      "text/plain": [
       "array([12, 13])"
      ]
     },
     "execution_count": 50,
     "metadata": {},
     "output_type": "execute_result"
    }
   ],
   "source": [
    "arr[2, 0]"
   ]
  },
  {
   "cell_type": "code",
   "execution_count": 51,
   "id": "dd1a2205-bf96-4ade-b04e-d4a33b6d4d85",
   "metadata": {},
   "outputs": [
    {
     "data": {
      "text/plain": [
       "16"
      ]
     },
     "execution_count": 51,
     "metadata": {},
     "output_type": "execute_result"
    }
   ],
   "source": [
    "arr[2, 2, 0]"
   ]
  },
  {
   "cell_type": "code",
   "execution_count": 52,
   "id": "8d5075d5-ea9b-4935-b577-bef9f65091a4",
   "metadata": {},
   "outputs": [
    {
     "data": {
      "text/plain": [
       "array([[[  0,   1],\n",
       "        [  2,   3],\n",
       "        [  4,   5]],\n",
       "\n",
       "       [[  6,   7],\n",
       "        [  8,   9],\n",
       "        [100, 101]],\n",
       "\n",
       "       [[ 12,  13],\n",
       "        [ 14,  15],\n",
       "        [ 16,  17]]])"
      ]
     },
     "execution_count": 52,
     "metadata": {},
     "output_type": "execute_result"
    }
   ],
   "source": [
    "arr[1, 2] = [100, 101]\n",
    "arr"
   ]
  },
  {
   "cell_type": "markdown",
   "id": "2db0f519-f3f8-49db-8e0c-b7a07e1ad1a1",
   "metadata": {},
   "source": [
    "# Срезы\n",
    "Срезы возвращаю только представление"
   ]
  },
  {
   "cell_type": "code",
   "execution_count": 53,
   "id": "becdbba4-bbf6-48ad-83b8-404ec296eb50",
   "metadata": {},
   "outputs": [
    {
     "data": {
      "text/plain": [
       "array([[  4,   5],\n",
       "       [100, 101]])"
      ]
     },
     "execution_count": 53,
     "metadata": {},
     "output_type": "execute_result"
    }
   ],
   "source": [
    "arr[0:2, 2] # шаг"
   ]
  },
  {
   "cell_type": "code",
   "execution_count": 54,
   "id": "ec6e6e3d-5c0c-415d-9844-98b681d05796",
   "metadata": {},
   "outputs": [
    {
     "data": {
      "text/plain": [
       "array([[[  0,   1],\n",
       "        [  2,   3],\n",
       "        [  4,   5]],\n",
       "\n",
       "       [[  6,   7],\n",
       "        [  8,   9],\n",
       "        [100, 101]]])"
      ]
     },
     "execution_count": 54,
     "metadata": {},
     "output_type": "execute_result"
    }
   ],
   "source": [
    "arr[:2]"
   ]
  },
  {
   "cell_type": "code",
   "execution_count": 55,
   "id": "42afc4d1-dab6-46bf-9414-273f5c236251",
   "metadata": {},
   "outputs": [
    {
     "data": {
      "text/plain": [
       "(array([[[  0,   1],\n",
       "         [  2,   3],\n",
       "         [  4,   5]],\n",
       " \n",
       "        [[  6,   7],\n",
       "         [  8,   9],\n",
       "         [100, 101]],\n",
       " \n",
       "        [[ 12,  13],\n",
       "         [ 14,  15],\n",
       "         [ 16,  17]]]),\n",
       " array([[ 2,  3],\n",
       "        [ 8,  9],\n",
       "        [14, 15]]))"
      ]
     },
     "execution_count": 55,
     "metadata": {},
     "output_type": "execute_result"
    }
   ],
   "source": [
    "arr, arr[:, 1]"
   ]
  },
  {
   "cell_type": "code",
   "execution_count": 56,
   "id": "150d1489-fc91-4166-a101-930caba355cc",
   "metadata": {},
   "outputs": [
    {
     "data": {
      "text/plain": [
       "array([[  7,   9, 101],\n",
       "       [ 13,  15,  17]])"
      ]
     },
     "execution_count": 56,
     "metadata": {},
     "output_type": "execute_result"
    }
   ],
   "source": [
    "arr[1:, :, 1]"
   ]
  },
  {
   "cell_type": "code",
   "execution_count": 57,
   "id": "25f31964-d1a1-423c-8a36-8a63a3d77f37",
   "metadata": {},
   "outputs": [
    {
     "data": {
      "text/plain": [
       "array([[ 4,  5],\n",
       "       [16, 17]])"
      ]
     },
     "execution_count": 57,
     "metadata": {},
     "output_type": "execute_result"
    }
   ],
   "source": [
    "arr[::2, 2] # с шагом 2"
   ]
  },
  {
   "cell_type": "code",
   "execution_count": 58,
   "id": "501e844f-78fb-4719-a270-1622663affd4",
   "metadata": {},
   "outputs": [
    {
     "data": {
      "text/plain": [
       "array([[[  0,   1],\n",
       "        [  2,   3],\n",
       "        [100, 100]],\n",
       "\n",
       "       [[  6,   7],\n",
       "        [  8,   9],\n",
       "        [100, 100]],\n",
       "\n",
       "       [[ 12,  13],\n",
       "        [ 14,  15],\n",
       "        [100, 100]]])"
      ]
     },
     "execution_count": 58,
     "metadata": {},
     "output_type": "execute_result"
    }
   ],
   "source": [
    "arr[:, 2] = 100 # замена элементов\n",
    "arr"
   ]
  },
  {
   "cell_type": "markdown",
   "id": "1d7a6d30-9c1d-4c93-87f1-7a70b8888e67",
   "metadata": {},
   "source": [
    "## Списочная индексация\n",
    "В [] передается массив/список с индексами либо массив с бульками\n",
    "Возвращается копия массива"
   ]
  },
  {
   "cell_type": "code",
   "execution_count": 59,
   "id": "39706b09-9c23-482d-ac63-9cb25b9c624f",
   "metadata": {},
   "outputs": [],
   "source": [
    "arr = np.arange(24).reshape(-1, 3, 2)"
   ]
  },
  {
   "cell_type": "code",
   "execution_count": 60,
   "id": "3f0b2171-6753-49cc-84d2-a9e7f5e78f44",
   "metadata": {},
   "outputs": [
    {
     "data": {
      "text/plain": [
       "array([[[ 6,  7],\n",
       "        [ 8,  9],\n",
       "        [10, 11]],\n",
       "\n",
       "       [[18, 19],\n",
       "        [20, 21],\n",
       "        [22, 23]],\n",
       "\n",
       "       [[ 6,  7],\n",
       "        [ 8,  9],\n",
       "        [10, 11]],\n",
       "\n",
       "       [[12, 13],\n",
       "        [14, 15],\n",
       "        [16, 17]],\n",
       "\n",
       "       [[ 0,  1],\n",
       "        [ 2,  3],\n",
       "        [ 4,  5]]])"
      ]
     },
     "execution_count": 60,
     "metadata": {},
     "output_type": "execute_result"
    }
   ],
   "source": [
    "arr[ [1, 3, 1, 2, 0] ] # выдаст нужные элементы нулевой оси"
   ]
  },
  {
   "cell_type": "code",
   "execution_count": 61,
   "id": "faf21868-7938-45ef-a72f-cf7d5c040247",
   "metadata": {},
   "outputs": [
    {
     "data": {
      "text/plain": [
       "array([[[ 0,  1],\n",
       "        [ 2,  3],\n",
       "        [ 4,  5]],\n",
       "\n",
       "       [[12, 13],\n",
       "        [14, 15],\n",
       "        [16, 17]],\n",
       "\n",
       "       [[18, 19],\n",
       "        [20, 21],\n",
       "        [22, 23]]])"
      ]
     },
     "execution_count": 61,
     "metadata": {},
     "output_type": "execute_result"
    }
   ],
   "source": [
    "arr[ [True, False, True, True] ] # числе элементов в передаваемом списке должно ровняться числу элементов на оси"
   ]
  },
  {
   "cell_type": "code",
   "execution_count": 62,
   "id": "44cd601d-8f67-4de9-8cb9-fbdf7c305deb",
   "metadata": {},
   "outputs": [
    {
     "data": {
      "text/plain": [
       "array([[0, 0, 1],\n",
       "       [1, 0, 2]])"
      ]
     },
     "execution_count": 62,
     "metadata": {},
     "output_type": "execute_result"
    }
   ],
   "source": [
    "index = np.array( [[0, 0, 1], [1, 0, 2]] )\n",
    "index"
   ]
  },
  {
   "cell_type": "code",
   "execution_count": 63,
   "id": "f5b92c76-f090-44a1-a071-fbadd527782c",
   "metadata": {},
   "outputs": [
    {
     "data": {
      "text/plain": [
       "array([[[[ 0,  1],\n",
       "         [ 2,  3],\n",
       "         [ 4,  5]],\n",
       "\n",
       "        [[ 0,  1],\n",
       "         [ 2,  3],\n",
       "         [ 4,  5]],\n",
       "\n",
       "        [[ 6,  7],\n",
       "         [ 8,  9],\n",
       "         [10, 11]]],\n",
       "\n",
       "\n",
       "       [[[ 6,  7],\n",
       "         [ 8,  9],\n",
       "         [10, 11]],\n",
       "\n",
       "        [[ 0,  1],\n",
       "         [ 2,  3],\n",
       "         [ 4,  5]],\n",
       "\n",
       "        [[12, 13],\n",
       "         [14, 15],\n",
       "         [16, 17]]]])"
      ]
     },
     "execution_count": 63,
     "metadata": {},
     "output_type": "execute_result"
    }
   ],
   "source": [
    "arr[index]"
   ]
  },
  {
   "cell_type": "markdown",
   "id": "428cb408-0e96-448f-8482-d0ebe75f07f7",
   "metadata": {},
   "source": [
    "# Мат операции, транслирование"
   ]
  },
  {
   "cell_type": "code",
   "execution_count": 64,
   "id": "2166df12-8e87-4b07-bbf6-db6b5e452cb0",
   "metadata": {},
   "outputs": [
    {
     "name": "stdout",
     "output_type": "stream",
     "text": [
      "[[0 1]\n",
      " [2 3]\n",
      " [4 5]]\n",
      "\n",
      "[[ 6  7]\n",
      " [ 8  9]\n",
      " [10 11]]\n"
     ]
    }
   ],
   "source": [
    "ar1 = np.arange(6).reshape(3, 2)\n",
    "ar2 = np.arange(6, 12).reshape(3, 2)\n",
    "print(ar1)\n",
    "print()\n",
    "print(ar2)"
   ]
  },
  {
   "cell_type": "code",
   "execution_count": 65,
   "id": "8ed427ad-bbbb-4c99-bd1d-0a98893217e2",
   "metadata": {},
   "outputs": [
    {
     "data": {
      "text/plain": [
       "array([[ 5,  6],\n",
       "       [ 7,  8],\n",
       "       [ 9, 10]])"
      ]
     },
     "execution_count": 65,
     "metadata": {},
     "output_type": "execute_result"
    }
   ],
   "source": [
    "ar1 + 5 # плюс ко всем элементам"
   ]
  },
  {
   "cell_type": "code",
   "execution_count": 66,
   "id": "276feb1f-cbfa-42f4-957f-5bd504ad9d79",
   "metadata": {},
   "outputs": [
    {
     "data": {
      "text/plain": [
       "array([[ 6,  8],\n",
       "       [10, 12],\n",
       "       [14, 16]])"
      ]
     },
     "execution_count": 66,
     "metadata": {},
     "output_type": "execute_result"
    }
   ],
   "source": [
    "ar1 + ar2 # поэлементное складывание"
   ]
  },
  {
   "attachments": {
    "a1b69f3d-9126-422f-8ef6-814ff7e4d3fd.png": {
     "image/png": "[encoded data removed]"
    }
   },
   "cell_type": "markdown",
   "id": "f3089eb5-6656-48d7-b8fb-803a276727f8",
   "metadata": {},
   "source": [
    "**Согласованные массивы** - массивы одинакового размера\n",
    "\n",
    "**Транслирование массива**\n",
    "1. Если массивы имеют разно количество осей, то к массиву с меньшим количество добавляются новые так, чтобы размеры совпали. Автоматически добавление происхдит слева. Самостоятельо моно добавить любые оси\n",
    "2. В массива на соответсвующих осях должно быть или одинаковое количество элементов или один элемент в одном из массивов\n",
    "\n",
    "![image.png](attachment:a1b69f3d-9126-422f-8ef6-814ff7e4d3fd.png)"
   ]
  },
  {
   "cell_type": "code",
   "execution_count": 67,
   "id": "4240c60f-6798-412e-b7b6-4b9c93b91c26",
   "metadata": {},
   "outputs": [
    {
     "data": {
      "text/plain": [
       "(array([[25],\n",
       "        [26],\n",
       "        [27]]),\n",
       " array([20, 21]))"
      ]
     },
     "execution_count": 67,
     "metadata": {},
     "output_type": "execute_result"
    }
   ],
   "source": [
    "# мат операции с разными размерами\n",
    "ar3 = np.arange(25, 28).reshape(3, 1)\n",
    "ar4 = np.arange(20, 22).reshape(2)\n",
    "ar3, ar4"
   ]
  },
  {
   "cell_type": "code",
   "execution_count": 68,
   "id": "c6ef86cf-8e8e-4183-bfc6-2db53db2a03b",
   "metadata": {},
   "outputs": [
    {
     "data": {
      "text/plain": [
       "array([[25, 26],\n",
       "       [28, 29],\n",
       "       [31, 32]])"
      ]
     },
     "execution_count": 68,
     "metadata": {},
     "output_type": "execute_result"
    }
   ],
   "source": [
    "ar1 + ar3"
   ]
  },
  {
   "cell_type": "code",
   "execution_count": 69,
   "id": "b57e7b43-ffcb-4890-9886-d1bcc74a32a0",
   "metadata": {},
   "outputs": [
    {
     "data": {
      "text/plain": [
       "array([[20, 22],\n",
       "       [22, 24],\n",
       "       [24, 26]])"
      ]
     },
     "execution_count": 69,
     "metadata": {},
     "output_type": "execute_result"
    }
   ],
   "source": [
    "ar1 + ar4"
   ]
  },
  {
   "cell_type": "code",
   "execution_count": 70,
   "id": "3de01865-725b-4924-b9a5-5c7440c7e7dc",
   "metadata": {},
   "outputs": [
    {
     "data": {
      "text/plain": [
       "((4, 3, 2),\n",
       " (4, 2),\n",
       " array([[0, 1],\n",
       "        [2, 3],\n",
       "        [4, 5],\n",
       "        [6, 7]]))"
      ]
     },
     "execution_count": 70,
     "metadata": {},
     "output_type": "execute_result"
    }
   ],
   "source": [
    "ar = np.arange(4*3*2).reshape((4, 3, 2))\n",
    "ar0 = np.arange(4*2).reshape((4, 2))\n",
    "ar.shape, ar0.shape, ar0"
   ]
  },
  {
   "cell_type": "code",
   "execution_count": 71,
   "id": "3400e9d7-d223-4f13-a7ab-d0fd574f9ad9",
   "metadata": {},
   "outputs": [
    {
     "data": {
      "text/plain": [
       "(array([[[0, 1]],\n",
       " \n",
       "        [[2, 3]],\n",
       " \n",
       "        [[4, 5]],\n",
       " \n",
       "        [[6, 7]]]),\n",
       " array([[[ 0,  2],\n",
       "         [ 2,  4],\n",
       "         [ 4,  6]],\n",
       " \n",
       "        [[ 8, 10],\n",
       "         [10, 12],\n",
       "         [12, 14]],\n",
       " \n",
       "        [[16, 18],\n",
       "         [18, 20],\n",
       "         [20, 22]],\n",
       " \n",
       "        [[24, 26],\n",
       "         [26, 28],\n",
       "         [28, 30]]]))"
      ]
     },
     "execution_count": 71,
     "metadata": {},
     "output_type": "execute_result"
    }
   ],
   "source": [
    "ar0.shape = (4, 1, 2)\n",
    "ar0, ar + ar0"
   ]
  },
  {
   "cell_type": "markdown",
   "id": "ac92f6c8-15e0-47d5-aa74-b139694ffc85",
   "metadata": {},
   "source": [
    "# Математические функции\n",
    "https://numpy.org/doc/stable/reference/routines.math.html"
   ]
  },
  {
   "cell_type": "code",
   "execution_count": 72,
   "id": "8b832d77-7ffa-4ca8-b95f-1d7a4d39bbac",
   "metadata": {},
   "outputs": [
    {
     "name": "stdout",
     "output_type": "stream",
     "text": [
      "2\n",
      "19\n",
      "189\n",
      "10.5\n"
     ]
    }
   ],
   "source": [
    "arr = np.arange(2, 20).reshape((3, 3, 2))\n",
    "print(arr.min())\n",
    "print(arr.max())\n",
    "print(arr.sum())\n",
    "print(arr.mean())"
   ]
  },
  {
   "cell_type": "raw",
   "id": "01461f75-0bd6-4c8e-a2d2-9e9010ed248d",
   "metadata": {},
   "source": []
  },
  {
   "cell_type": "markdown",
   "id": "dc16dba9-c0e2-446e-8b21-1f6650b7b897",
   "metadata": {},
   "source": [
    "## Функции"
   ]
  },
  {
   "cell_type": "code",
   "execution_count": 73,
   "id": "2a4e7452-a80f-417a-8fe9-9fe7ab1c64b7",
   "metadata": {},
   "outputs": [
    {
     "data": {
      "text/plain": [
       "array([[[ 2,  3],\n",
       "        [ 4,  5],\n",
       "        [ 6,  7]],\n",
       "\n",
       "       [[ 8,  9],\n",
       "        [10, 11],\n",
       "        [12, 13]],\n",
       "\n",
       "       [[14, 15],\n",
       "        [16, 17],\n",
       "        [18, 19]]])"
      ]
     },
     "execution_count": 73,
     "metadata": {},
     "output_type": "execute_result"
    }
   ],
   "source": [
    "np.abs(arr)"
   ]
  },
  {
   "cell_type": "code",
   "execution_count": 74,
   "id": "98b9505d-4e48-438f-b947-aece7a70660f",
   "metadata": {},
   "outputs": [
    {
     "data": {
      "text/plain": [
       "19"
      ]
     },
     "execution_count": 74,
     "metadata": {},
     "output_type": "execute_result"
    }
   ],
   "source": [
    "np.max(arr)"
   ]
  },
  {
   "cell_type": "code",
   "execution_count": 75,
   "id": "ef4fb39d-d326-45cb-b7ac-237bd1ae0ed0",
   "metadata": {},
   "outputs": [
    {
     "data": {
      "text/plain": [
       "array([[[0.69314718, 1.09861229],\n",
       "        [1.38629436, 1.60943791],\n",
       "        [1.79175947, 1.94591015]],\n",
       "\n",
       "       [[2.07944154, 2.19722458],\n",
       "        [2.30258509, 2.39789527],\n",
       "        [2.48490665, 2.56494936]],\n",
       "\n",
       "       [[2.63905733, 2.7080502 ],\n",
       "        [2.77258872, 2.83321334],\n",
       "        [2.89037176, 2.94443898]]])"
      ]
     },
     "execution_count": 75,
     "metadata": {},
     "output_type": "execute_result"
    }
   ],
   "source": [
    "np.log(arr) # возвращает натуральные логарифмы элементов"
   ]
  },
  {
   "cell_type": "code",
   "execution_count": 76,
   "id": "6fb8ca61-28cb-45a2-b2cf-ea7d9c9d4b8d",
   "metadata": {},
   "outputs": [
    {
     "data": {
      "text/plain": [
       "array([[[7.38905610e+00, 2.00855369e+01],\n",
       "        [5.45981500e+01, 1.48413159e+02],\n",
       "        [4.03428793e+02, 1.09663316e+03]],\n",
       "\n",
       "       [[2.98095799e+03, 8.10308393e+03],\n",
       "        [2.20264658e+04, 5.98741417e+04],\n",
       "        [1.62754791e+05, 4.42413392e+05]],\n",
       "\n",
       "       [[1.20260428e+06, 3.26901737e+06],\n",
       "        [8.88611052e+06, 2.41549528e+07],\n",
       "        [6.56599691e+07, 1.78482301e+08]]])"
      ]
     },
     "execution_count": 76,
     "metadata": {},
     "output_type": "execute_result"
    }
   ],
   "source": [
    "np.exp(arr) # экспанента"
   ]
  },
  {
   "cell_type": "code",
   "execution_count": 77,
   "id": "57880910-36b4-41ad-9364-a452c4eaeda0",
   "metadata": {},
   "outputs": [
    {
     "data": {
      "text/plain": [
       "array([[[ 2.,  3.],\n",
       "        [ 4.,  5.],\n",
       "        [ 6.,  7.]],\n",
       "\n",
       "       [[ 8.,  9.],\n",
       "        [10., 11.],\n",
       "        [12., 13.]],\n",
       "\n",
       "       [[14., 15.],\n",
       "        [16., 17.],\n",
       "        [18., 19.]]])"
      ]
     },
     "execution_count": 77,
     "metadata": {},
     "output_type": "execute_result"
    }
   ],
   "source": [
    "np.log(np.exp(arr)) # в функцию передаётся функция - идёт изнутя"
   ]
  },
  {
   "cell_type": "code",
   "execution_count": 78,
   "id": "f3fda195-6e30-4f02-a977-c39118a3e9aa",
   "metadata": {},
   "outputs": [
    {
     "data": {
      "text/plain": [
       "array([[[ 0.90929743,  0.14112001],\n",
       "        [-0.7568025 , -0.95892427],\n",
       "        [-0.2794155 ,  0.6569866 ]],\n",
       "\n",
       "       [[ 0.98935825,  0.41211849],\n",
       "        [-0.54402111, -0.99999021],\n",
       "        [-0.53657292,  0.42016704]],\n",
       "\n",
       "       [[ 0.99060736,  0.65028784],\n",
       "        [-0.28790332, -0.96139749],\n",
       "        [-0.75098725,  0.14987721]]])"
      ]
     },
     "execution_count": 78,
     "metadata": {},
     "output_type": "execute_result"
    }
   ],
   "source": [
    "np.sin(arr)"
   ]
  },
  {
   "cell_type": "code",
   "execution_count": 79,
   "id": "d1e7b188-841e-4a36-9a8a-9e217ac71522",
   "metadata": {},
   "outputs": [
    {
     "data": {
      "text/plain": [
       "array([[[1.10714872, 1.24904577],\n",
       "        [1.32581766, 1.37340077],\n",
       "        [1.40564765, 1.42889927]],\n",
       "\n",
       "       [[1.44644133, 1.46013911],\n",
       "        [1.47112767, 1.48013644],\n",
       "        [1.48765509, 1.49402444]],\n",
       "\n",
       "       [[1.49948886, 1.50422816],\n",
       "        [1.50837752, 1.5120405 ],\n",
       "        [1.51529782, 1.51821327]]])"
      ]
     },
     "execution_count": 79,
     "metadata": {},
     "output_type": "execute_result"
    }
   ],
   "source": [
    "np.arctan(arr)"
   ]
  },
  {
   "cell_type": "code",
   "execution_count": 80,
   "id": "06537e2a-df08-4a43-a4c9-c50bd48e34a2",
   "metadata": {},
   "outputs": [
    {
     "data": {
      "text/plain": [
       "((3, 3, 2),\n",
       " array([[[ 2,  3],\n",
       "         [ 4,  5],\n",
       "         [ 6,  7]],\n",
       " \n",
       "        [[ 8,  9],\n",
       "         [10, 11],\n",
       "         [12, 13]],\n",
       " \n",
       "        [[14, 15],\n",
       "         [16, 17],\n",
       "         [18, 19]]]))"
      ]
     },
     "execution_count": 80,
     "metadata": {},
     "output_type": "execute_result"
    }
   ],
   "source": [
    "arr.shape, arr"
   ]
  },
  {
   "cell_type": "markdown",
   "id": "d62134e4-10d1-4bb1-b257-ac563da2c759",
   "metadata": {},
   "source": [
    "## Применение функций по осям"
   ]
  },
  {
   "cell_type": "code",
   "execution_count": 81,
   "id": "fd6eb3c7-6964-4477-b5ea-d829354567b6",
   "metadata": {},
   "outputs": [
    {
     "name": "stdout",
     "output_type": "stream",
     "text": [
      "[[24 27]\n",
      " [30 33]\n",
      " [36 39]]\n",
      "\n",
      "[[ 3  5  7]\n",
      " [ 9 11 13]\n",
      " [15 17 19]]\n",
      "\n"
     ]
    }
   ],
   "source": [
    "print(np.sum(arr, axis=0), end='\\n\\n') # размер массива будет как у исходного без переданной оси\n",
    "# берутся массивы на нулевой оси (массивы) и поэлементно складываются\n",
    "print(np.max(arr, axis=2), end='\\n\\n')"
   ]
  },
  {
   "cell_type": "code",
   "execution_count": 82,
   "id": "b3951a23-dd43-4c2d-bbf5-3526ca53b77a",
   "metadata": {},
   "outputs": [
    {
     "data": {
      "text/plain": [
       "array([[0, 1],\n",
       "       [2, 3],\n",
       "       [4, 5],\n",
       "       [6, 7],\n",
       "       [8, 9]])"
      ]
     },
     "execution_count": 82,
     "metadata": {},
     "output_type": "execute_result"
    }
   ],
   "source": [
    "arr = np.arange(10).reshape((5, 2)) # разберемся поподробнее\n",
    "# дан массив с координатами точек\n",
    "arr"
   ]
  },
  {
   "cell_type": "code",
   "execution_count": 83,
   "id": "f279cab7-9abe-49ff-b07a-e8bbfb336c10",
   "metadata": {},
   "outputs": [
    {
     "data": {
      "text/plain": [
       "array([4., 5.])"
      ]
     },
     "execution_count": 83,
     "metadata": {},
     "output_type": "execute_result"
    }
   ],
   "source": [
    "# посчитаем средние значения координат х и у\n",
    "np.mean(arr, axis=0)"
   ]
  },
  {
   "cell_type": "code",
   "execution_count": 84,
   "id": "bb1854a0-f960-40fa-9ac1-df573bf9d992",
   "metadata": {},
   "outputs": [
    {
     "data": {
      "text/plain": [
       "array([[[ 0,  1],\n",
       "        [ 2,  3],\n",
       "        [ 4,  5]],\n",
       "\n",
       "       [[ 6,  7],\n",
       "        [ 8,  9],\n",
       "        [10, 11]],\n",
       "\n",
       "       [[12, 13],\n",
       "        [14, 15],\n",
       "        [16, 17]]])"
      ]
     },
     "execution_count": 84,
     "metadata": {},
     "output_type": "execute_result"
    }
   ],
   "source": [
    "# Пусть есть 3 картинки и на каждой измерены координаты х и у трех объектов\n",
    "arr = np.arange(18).reshape((3, 3, 2))\n",
    "arr"
   ]
  },
  {
   "cell_type": "code",
   "execution_count": 85,
   "id": "0119ee19-f22e-4a25-bdfc-ea8a86d49925",
   "metadata": {},
   "outputs": [
    {
     "data": {
      "text/plain": [
       "array([[ 2.,  3.],\n",
       "       [ 8.,  9.],\n",
       "       [14., 15.]])"
      ]
     },
     "execution_count": 85,
     "metadata": {},
     "output_type": "execute_result"
    }
   ],
   "source": [
    "# Посчитаем средние координаты х и у на каждой картинке\n",
    "# т.к. нужно получить для х и у, то ось 2 не трогаем\n",
    "# т.к. получаем для каждой картинки, нулевую ось тоже не трогаем\n",
    "np.mean(arr, axis=1)"
   ]
  },
  {
   "cell_type": "code",
   "execution_count": 86,
   "id": "66936e19-9785-4125-b76d-ab3c50182a40",
   "metadata": {},
   "outputs": [
    {
     "data": {
      "text/plain": [
       "array([[ 6.,  7.],\n",
       "       [ 8.,  9.],\n",
       "       [10., 11.]])"
      ]
     },
     "execution_count": 86,
     "metadata": {},
     "output_type": "execute_result"
    }
   ],
   "source": [
    "# а для всех каринок?\n",
    "np.mean(arr, axis=0) # неверно\n",
    "# это для среднее для трех объектов на всех картинках"
   ]
  },
  {
   "cell_type": "code",
   "execution_count": 87,
   "id": "46f6b328-de7a-4a69-ae7a-64faa6010056",
   "metadata": {},
   "outputs": [
    {
     "data": {
      "text/plain": [
       "array([8., 9.])"
      ]
     },
     "execution_count": 87,
     "metadata": {},
     "output_type": "execute_result"
    }
   ],
   "source": [
    "np.mean(arr.reshape(-1, 2), axis = 0)"
   ]
  },
  {
   "cell_type": "code",
   "execution_count": 88,
   "id": "58bfbb9c-1cc0-4184-8322-12b9d50c86fc",
   "metadata": {},
   "outputs": [
    {
     "data": {
      "text/plain": [
       "array([8., 9.])"
      ]
     },
     "execution_count": 88,
     "metadata": {},
     "output_type": "execute_result"
    }
   ],
   "source": [
    "# или же\n",
    "np.mean(arr, axis=(0,1))"
   ]
  },
  {
   "cell_type": "code",
   "execution_count": 89,
   "id": "46549ad1-2c0c-498b-a048-ec2481165b70",
   "metadata": {},
   "outputs": [],
   "source": [
    "# есть 3 картинки 4х4 с тремя цветовыми каналами\n",
    "# найти средние значения цветовых каналов для каждой картинки отдельно\n",
    "arr = np.arange(3*4*4*3).reshape((3, 4, 4, 3))\n",
    "# не трогаем -1 ось - нуджны все цвета\n",
    "# не трогаем 0 ось - нужно для каждой картинки"
   ]
  },
  {
   "cell_type": "code",
   "execution_count": 90,
   "id": "c8e98b1e-2c48-4748-a843-bfe02b9797af",
   "metadata": {},
   "outputs": [
    {
     "data": {
      "text/plain": [
       "array([[ 22.5,  23.5,  24.5],\n",
       "       [ 70.5,  71.5,  72.5],\n",
       "       [118.5, 119.5, 120.5]])"
      ]
     },
     "execution_count": 90,
     "metadata": {},
     "output_type": "execute_result"
    }
   ],
   "source": [
    "np.mean(arr, axis=(1, 2))"
   ]
  },
  {
   "cell_type": "code",
   "execution_count": 91,
   "id": "67184269-3d4c-47d4-8831-60cd119cd4b1",
   "metadata": {},
   "outputs": [
    {
     "data": {
      "text/plain": [
       "array([70.5, 71.5, 72.5])"
      ]
     },
     "execution_count": 91,
     "metadata": {},
     "output_type": "execute_result"
    }
   ],
   "source": [
    "# нужно посчитать среднее значение цветовых каналов для всех картинок и всех пикселей\n",
    "np.mean(arr, axis=(0, 1, 2))"
   ]
  },
  {
   "cell_type": "markdown",
   "id": "d2171ca3-7bda-46b4-a0dd-eba076fed528",
   "metadata": {},
   "source": [
    "## Статистические функции"
   ]
  },
  {
   "cell_type": "code",
   "execution_count": 92,
   "id": "b25eafb5-2416-4ac1-a446-d5d98972b62b",
   "metadata": {},
   "outputs": [
    {
     "data": {
      "text/plain": [
       "71.5"
      ]
     },
     "execution_count": 92,
     "metadata": {},
     "output_type": "execute_result"
    }
   ],
   "source": [
    "np.median(arr)"
   ]
  },
  {
   "cell_type": "code",
   "execution_count": 93,
   "id": "7d70e4de-093b-4eef-893a-bb8717f711a0",
   "metadata": {},
   "outputs": [
    {
     "data": {
      "text/plain": [
       "1727.9166666666667"
      ]
     },
     "execution_count": 93,
     "metadata": {},
     "output_type": "execute_result"
    }
   ],
   "source": [
    "np.var(arr) # дисперсия"
   ]
  },
  {
   "cell_type": "code",
   "execution_count": 94,
   "id": "f2b20270-b97a-4ce8-8b83-cf4e2b5929f8",
   "metadata": {},
   "outputs": [
    {
     "data": {
      "text/plain": [
       "41.56821702535083"
      ]
     },
     "execution_count": 94,
     "metadata": {},
     "output_type": "execute_result"
    }
   ],
   "source": [
    "np.std(arr) # стандартное отклонение"
   ]
  },
  {
   "cell_type": "markdown",
   "id": "7f43d1c8-3755-4d69-a4a1-4a25b9822f75",
   "metadata": {},
   "source": [
    "## Генерация случайных чисел"
   ]
  },
  {
   "cell_type": "code",
   "execution_count": 95,
   "id": "b8d19e16-19b3-4bf6-a6a9-e2e932c3d9da",
   "metadata": {},
   "outputs": [
    {
     "data": {
      "text/plain": [
       "0.8938898493237802"
      ]
     },
     "execution_count": 95,
     "metadata": {},
     "output_type": "execute_result"
    }
   ],
   "source": [
    "np.random.rand() # генерация [0, 1) равномерное"
   ]
  },
  {
   "cell_type": "code",
   "execution_count": 96,
   "id": "fcb9ca2f-b7a8-4fd7-b548-c8716f3a377a",
   "metadata": {},
   "outputs": [
    {
     "data": {
      "text/plain": [
       "array([0.76703264, 0.73942564, 0.03639576, 0.85831277])"
      ]
     },
     "execution_count": 96,
     "metadata": {},
     "output_type": "execute_result"
    }
   ],
   "source": [
    "np.random.rand(4) # вернет массив с 4 элементами"
   ]
  },
  {
   "cell_type": "code",
   "execution_count": 97,
   "id": "12180d79-8a41-4b1d-934d-30cbd3188a77",
   "metadata": {},
   "outputs": [
    {
     "data": {
      "text/plain": [
       "array([[0.73435908, 0.21595367],\n",
       "       [0.82183179, 0.1515424 ],\n",
       "       [0.73342763, 0.90697988]])"
      ]
     },
     "execution_count": 97,
     "metadata": {},
     "output_type": "execute_result"
    }
   ],
   "source": [
    "np.random.rand(3, 2) # массив"
   ]
  },
  {
   "cell_type": "code",
   "execution_count": 98,
   "id": "b8cd8abc-2ad1-46a2-9d3e-ee761818a4c9",
   "metadata": {},
   "outputs": [
    {
     "data": {
      "text/plain": [
       "-0.872072272874495"
      ]
     },
     "execution_count": 98,
     "metadata": {},
     "output_type": "execute_result"
    }
   ],
   "source": [
    "np.random.randn() # стандартное нормальное распределение\n",
    "# передается только размер"
   ]
  },
  {
   "cell_type": "code",
   "execution_count": 99,
   "id": "d312e4d1-9302-4b5e-b861-093f3e58cfa7",
   "metadata": {},
   "outputs": [
    {
     "data": {
      "text/plain": [
       "4.393697083218985"
      ]
     },
     "execution_count": 99,
     "metadata": {},
     "output_type": "execute_result"
    }
   ],
   "source": [
    "np.random.normal(5, 10) # нормальное с 5 средним и сто 10\n",
    "# можно передавать размер"
   ]
  },
  {
   "cell_type": "code",
   "execution_count": 100,
   "id": "b078a05b-e92e-4875-a0b0-815aa2f336e1",
   "metadata": {},
   "outputs": [
    {
     "data": {
      "text/plain": [
       "1"
      ]
     },
     "execution_count": 100,
     "metadata": {},
     "output_type": "execute_result"
    }
   ],
   "source": [
    "np.random.randint(5) # целочисленное в граница из дискретного равномерного распределения от 0 до 5\n",
    "# можно мередавать размер"
   ]
  },
  {
   "cell_type": "code",
   "execution_count": 101,
   "id": "ee270ca2-c685-4fc4-ad11-1be46aa7a03f",
   "metadata": {},
   "outputs": [
    {
     "data": {
      "text/plain": [
       "5"
      ]
     },
     "execution_count": 101,
     "metadata": {},
     "output_type": "execute_result"
    }
   ],
   "source": [
    "np.random.randint(5, 10) # 10 не включена"
   ]
  },
  {
   "cell_type": "code",
   "execution_count": 102,
   "id": "a7c406c1-d70b-4da6-a20d-3bb46a3560cc",
   "metadata": {},
   "outputs": [
    {
     "data": {
      "text/plain": [
       "array([[6, 8, 8, 6, 7],\n",
       "       [5, 6, 6, 8, 9],\n",
       "       [9, 5, 6, 8, 8],\n",
       "       [9, 5, 8, 7, 8],\n",
       "       [7, 7, 9, 7, 7]])"
      ]
     },
     "execution_count": 102,
     "metadata": {},
     "output_type": "execute_result"
    }
   ],
   "source": [
    "np.random.randint(5, 10, size=(5, 5))"
   ]
  },
  {
   "cell_type": "code",
   "execution_count": 103,
   "id": "799806ac-1907-4176-8032-b488c7b7d16f",
   "metadata": {},
   "outputs": [],
   "source": [
    "arr = np.arange(10)"
   ]
  },
  {
   "cell_type": "code",
   "execution_count": 104,
   "id": "19cab959-74be-4933-8386-793a7991a15f",
   "metadata": {},
   "outputs": [
    {
     "data": {
      "text/plain": [
       "array([8, 2, 1, 3, 8, 9, 6, 6, 8, 9, 8, 6, 9, 4, 7, 9, 8, 7, 1, 7])"
      ]
     },
     "execution_count": 104,
     "metadata": {},
     "output_type": "execute_result"
    }
   ],
   "source": [
    "np.random.choice(arr, 20) # берет 20 элементов с равной вероятностью"
   ]
  },
  {
   "cell_type": "code",
   "execution_count": 105,
   "id": "55f9e45e-32a4-4483-829c-3d005ef2ebf9",
   "metadata": {},
   "outputs": [
    {
     "data": {
      "text/plain": [
       "array([2, 8, 9, 3, 4, 0, 5, 6, 7, 1])"
      ]
     },
     "execution_count": 105,
     "metadata": {},
     "output_type": "execute_result"
    }
   ],
   "source": [
    "np.random.shuffle(arr) # перемешивает массив вдоль 0 оси\n",
    "arr # меняет реальный массив"
   ]
  },
  {
   "cell_type": "code",
   "execution_count": 106,
   "id": "c666a9be-4833-47ba-9719-db6ed922d8db",
   "metadata": {},
   "outputs": [],
   "source": [
    "# np.random.seed()"
   ]
  },
  {
   "cell_type": "markdown",
   "id": "5b35dedd-90ae-4b26-96af-3e31c2627aab",
   "metadata": {},
   "source": [
    "# Операции сравнения"
   ]
  },
  {
   "cell_type": "code",
   "execution_count": 107,
   "id": "0942320a-90af-46a3-a658-1a3ee450850c",
   "metadata": {},
   "outputs": [
    {
     "name": "stdout",
     "output_type": "stream",
     "text": [
      "[[6 3 7]\n",
      " [4 6 9]\n",
      " [2 6 7]\n",
      " [4 3 7]]\n",
      "\n",
      "[[2 6 7]\n",
      " [4 6 9]\n",
      " [2 6 7]\n",
      " [6 3 7]]\n"
     ]
    }
   ],
   "source": [
    "np.random.seed(42)\n",
    "\n",
    "ar1 = np.random.randint(10, size=[4, 3])\n",
    "ar2 = ar1[ [2, 1, 2, 0] ]\n",
    "\n",
    "print(ar1, end='\\n\\n')\n",
    "print(ar2)"
   ]
  },
  {
   "cell_type": "code",
   "execution_count": 108,
   "id": "b9a340d7-b90b-40b7-9b8d-6d9fed324b12",
   "metadata": {},
   "outputs": [
    {
     "data": {
      "text/plain": [
       "array([[False, False, False],\n",
       "       [ True, False, False],\n",
       "       [False, False, False],\n",
       "       [ True, False, False]])"
      ]
     },
     "execution_count": 108,
     "metadata": {},
     "output_type": "execute_result"
    }
   ],
   "source": [
    "ar1 == 4 # поэлементное сравнение"
   ]
  },
  {
   "cell_type": "code",
   "execution_count": 109,
   "id": "6fd3b0f4-43e1-45a0-aefc-759c093a1119",
   "metadata": {},
   "outputs": [
    {
     "data": {
      "text/plain": [
       "array([6, 7, 6, 9, 6, 7, 7])"
      ]
     },
     "execution_count": 109,
     "metadata": {},
     "output_type": "execute_result"
    }
   ],
   "source": [
    "ar1[ar1 > 4] # как в пандасе"
   ]
  },
  {
   "cell_type": "code",
   "execution_count": 110,
   "id": "dcd0b539-3b6a-474e-915b-c0fed18f0656",
   "metadata": {},
   "outputs": [
    {
     "data": {
      "text/plain": [
       "array([[False, False,  True],\n",
       "       [ True,  True,  True],\n",
       "       [ True,  True,  True],\n",
       "       [False,  True,  True]])"
      ]
     },
     "execution_count": 110,
     "metadata": {},
     "output_type": "execute_result"
    }
   ],
   "source": [
    "# массивы одинаковой формы\n",
    "ar1 == ar2 # поэлементно"
   ]
  },
  {
   "cell_type": "code",
   "execution_count": 111,
   "id": "dbbfbc70-6de7-4669-9fc5-d4394bf58972",
   "metadata": {},
   "outputs": [
    {
     "name": "stdout",
     "output_type": "stream",
     "text": [
      "[[[7 2]\n",
      "  [5 4]\n",
      "  [1 7]]\n",
      "\n",
      " [[5 1]\n",
      "  [4 0]\n",
      "  [9 5]]]\n",
      "\n",
      "[[2 3]\n",
      " [4 5]\n",
      " [6 7]]\n"
     ]
    }
   ],
   "source": [
    "# согласованные массивы\n",
    "ar3 = np.random.randint(10, size=[2, 3, 2])\n",
    "shape32 = np.arange(2, 8).reshape([3, 2])\n",
    "\n",
    "print(ar3, end='\\n\\n')\n",
    "print(shape32)"
   ]
  },
  {
   "cell_type": "code",
   "execution_count": 112,
   "id": "cd8c1b49-85d8-49f8-be41-e3bc5a63c941",
   "metadata": {},
   "outputs": [
    {
     "data": {
      "text/plain": [
       "array([[[ True, False],\n",
       "        [False, False],\n",
       "        [False, False]],\n",
       "\n",
       "       [[False, False],\n",
       "        [False, False],\n",
       "        [False, False]]])"
      ]
     },
     "execution_count": 112,
     "metadata": {},
     "output_type": "execute_result"
    }
   ],
   "source": [
    "ar3 == [7, 3]"
   ]
  },
  {
   "cell_type": "code",
   "execution_count": 113,
   "id": "f7e24514-c38c-44b2-a430-1fb802b5f88d",
   "metadata": {},
   "outputs": [
    {
     "data": {
      "text/plain": [
       "array([[[ True, False],\n",
       "        [ True, False],\n",
       "        [False, False]],\n",
       "\n",
       "       [[ True, False],\n",
       "        [False, False],\n",
       "        [ True, False]]])"
      ]
     },
     "execution_count": 113,
     "metadata": {},
     "output_type": "execute_result"
    }
   ],
   "source": [
    "ar3 > shape32"
   ]
  },
  {
   "cell_type": "markdown",
   "id": "c25aae9c-95dd-4a4f-a9e4-bbad4c9ce5a5",
   "metadata": {},
   "source": [
    "## Функции для сравнения массивов\n",
    "\n",
    "np.greater >\n",
    "np.greater_equal() >=\n",
    "np.less <\n",
    "np.less_equal <=\n",
    "np.equal ==\n",
    "np.not_eqal !="
   ]
  },
  {
   "cell_type": "code",
   "execution_count": 114,
   "id": "8e7afb48-3e4f-4a65-9a1c-afe977b63bbb",
   "metadata": {},
   "outputs": [
    {
     "data": {
      "text/plain": [
       "array([[ True,  True, False],\n",
       "       [False, False, False],\n",
       "       [False, False, False],\n",
       "       [ True, False, False]])"
      ]
     },
     "execution_count": 114,
     "metadata": {},
     "output_type": "execute_result"
    }
   ],
   "source": [
    "np.not_equal(ar1, ar2)"
   ]
  },
  {
   "cell_type": "code",
   "execution_count": 115,
   "id": "024159ce-1de4-46a0-90ad-61f182c9a9b8",
   "metadata": {},
   "outputs": [
    {
     "data": {
      "text/plain": [
       "array([[[ True, False],\n",
       "        [ True, False],\n",
       "        [False, False]],\n",
       "\n",
       "       [[ True, False],\n",
       "        [False, False],\n",
       "        [ True, False]]])"
      ]
     },
     "execution_count": 115,
     "metadata": {},
     "output_type": "execute_result"
    }
   ],
   "source": [
    "np.greater(ar3, shape32)"
   ]
  },
  {
   "cell_type": "code",
   "execution_count": 116,
   "id": "15fe443e-333a-4410-93a4-dc4cffcb15eb",
   "metadata": {},
   "outputs": [
    {
     "data": {
      "text/plain": [
       "False"
      ]
     },
     "execution_count": 116,
     "metadata": {},
     "output_type": "execute_result"
    }
   ],
   "source": [
    "np.array_equal(ar1, ar2)"
   ]
  },
  {
   "cell_type": "code",
   "execution_count": 117,
   "id": "52e53b55-699f-4785-ab8b-f2faf7b850cf",
   "metadata": {},
   "outputs": [
    {
     "data": {
      "text/plain": [
       "True"
      ]
     },
     "execution_count": 117,
     "metadata": {},
     "output_type": "execute_result"
    }
   ],
   "source": [
    "np.array_equal(ar1, ar1)"
   ]
  },
  {
   "cell_type": "code",
   "execution_count": 118,
   "id": "d9b728f5-c981-4681-a424-a7f180260809",
   "metadata": {},
   "outputs": [
    {
     "name": "stdout",
     "output_type": "stream",
     "text": [
      "[[[8 0]\n",
      "  [9 2]\n",
      "  [6 3]]\n",
      "\n",
      " [[8 2]\n",
      "  [4 2]\n",
      "  [6 4]]]\n",
      "\n",
      "[[2 3 4]\n",
      " [5 6 7]]\n",
      "\n",
      "[6 7]\n"
     ]
    }
   ],
   "source": [
    "# несогласованные массивы\n",
    "ar3 = np.random.randint(10, size=[2, 3, 2])\n",
    "shape23 = np.arange(2, 8).reshape([2, 3])\n",
    "shape2 = np.array([6, 7])\n",
    "print(ar3, end='\\n\\n')\n",
    "print(shape23, end='\\n\\n')\n",
    "print(shape2)"
   ]
  },
  {
   "cell_type": "code",
   "execution_count": 119,
   "id": "fac6c31a-3a0c-4543-83bd-6f562cc8fd06",
   "metadata": {},
   "outputs": [
    {
     "data": {
      "text/plain": [
       "array([[[False, False],\n",
       "        [False, False],\n",
       "        [False, False]],\n",
       "\n",
       "       [[False, False],\n",
       "        [False, False],\n",
       "        [False, False]]])"
      ]
     },
     "execution_count": 119,
     "metadata": {},
     "output_type": "execute_result"
    }
   ],
   "source": [
    "ar3 == shape23.reshape([2, 3, 1])"
   ]
  },
  {
   "cell_type": "code",
   "execution_count": 120,
   "id": "536654aa-8fa4-4c9d-9203-f22b5855cd9c",
   "metadata": {},
   "outputs": [
    {
     "data": {
      "text/plain": [
       "array([[[False,  True],\n",
       "        [False,  True],\n",
       "        [False,  True]],\n",
       "\n",
       "       [[False,  True],\n",
       "        [ True,  True],\n",
       "        [False,  True]]])"
      ]
     },
     "execution_count": 120,
     "metadata": {},
     "output_type": "execute_result"
    }
   ],
   "source": [
    "ar3 < shape2"
   ]
  },
  {
   "cell_type": "code",
   "execution_count": 121,
   "id": "4476d6cb-7e01-418c-89c7-a9b10eaf6792",
   "metadata": {},
   "outputs": [
    {
     "data": {
      "text/plain": [
       "array([[[False,  True],\n",
       "        [False,  True],\n",
       "        [False,  True]],\n",
       "\n",
       "       [[False,  True],\n",
       "        [ True,  True],\n",
       "        [ True,  True]]])"
      ]
     },
     "execution_count": 121,
     "metadata": {},
     "output_type": "execute_result"
    }
   ],
   "source": [
    "ar3 < shape2.reshape([2, 1, 1])\n",
    "# ar3 < shape2[:, np.newaxis, np.newaxis]"
   ]
  },
  {
   "cell_type": "code",
   "execution_count": 122,
   "id": "6e96602e-a305-432c-8bbd-25b989a88f01",
   "metadata": {},
   "outputs": [
    {
     "name": "stdout",
     "output_type": "stream",
     "text": [
      "[ True  True  True  True False]\n",
      "\n",
      "False\n",
      "\n",
      "True\n",
      "\n",
      "[False False False False False]\n",
      "\n",
      "False\n",
      "\n"
     ]
    }
   ],
   "source": [
    "ar = np.arange(1, 6)\n",
    "print(ar <5, end='\\n\\n')\n",
    "print(np.all(arr < 5), end='\\n\\n')\n",
    "print(np.any(arr < 5), end='\\n\\n')\n",
    "print(ar < 0, end='\\n\\n')\n",
    "print(np.any(arr < 0), end='\\n\\n')"
   ]
  },
  {
   "cell_type": "markdown",
   "id": "bc9d4cdf-45c2-4b74-bd7a-0b86dc124447",
   "metadata": {},
   "source": [
    "# Матрицы и вектора"
   ]
  },
  {
   "cell_type": "code",
   "execution_count": null,
   "id": "0afa691d-899f-4b7d-839b-dfec87420c81",
   "metadata": {},
   "outputs": [],
   "source": []
  },
  {
   "cell_type": "code",
   "execution_count": 125,
   "id": "ba43cd41-c9bc-432f-b4c0-2b53c20ed58c",
   "metadata": {},
   "outputs": [],
   "source": [
    "from numpy.random import uniform\n",
    "from numpy import cos, sin, pi\n",
    "import numpy as np\n",
    "import matplotlib.pyplot as plt\n",
    "\n",
    "\n",
    "def generate1():\n",
    "    a = uniform(0, 1)\n",
    "    b = uniform(0, 1)\n",
    "    return (a * cos(2 * pi * b), a * sin(2 * pi * b))\n",
    "\n",
    "def generate2():\n",
    "    while True:\n",
    "        x = uniform(-1, 1)\n",
    "        y = uniform(-1, 1)\n",
    "        if x ** 2 + y ** 2 > 1:\n",
    "            continue\n",
    "        return (x, y)"
   ]
  },
  {
   "cell_type": "code",
   "execution_count": 154,
   "id": "5bcfccd1-cbb9-4bfd-b0d1-b34d4e3ff4f7",
   "metadata": {},
   "outputs": [
    {
     "name": "stdout",
     "output_type": "stream",
     "text": [
      "0.3388464840267561\n"
     ]
    },
    {
     "data": {
      "text/plain": [
       "<matplotlib.collections.PathCollection at 0x2253394bbe0>"
      ]
     },
     "execution_count": 154,
     "metadata": {},
     "output_type": "execute_result"
    },
    {
     "data": {
      "image/png": "[encoded data removed]",
      "text/plain": [
       "<Figure size 640x480 with 1 Axes>"
      ]
     },
     "metadata": {},
     "output_type": "display_data"
    }
   ],
   "source": [
    "X = np.array([generate1() for _ in range(1000)])\n",
    "x = X[:, 0]\n",
    "y = X[:, 1]\n",
    "rang = (x ** 2 + y ** 2).mean()\n",
    "print(rang)\n",
    "plt.scatter(x, y)"
   ]
  },
  {
   "cell_type": "code",
   "execution_count": null,
   "id": "d36c174f-2ee3-4bc3-9613-f6e6f724780a",
   "metadata": {},
   "outputs": [],
   "source": []
  },
  {
   "cell_type": "code",
   "execution_count": 2,
   "id": "ba317031-c06a-4fd1-bfc4-2169bc478da2",
   "metadata": {},
   "outputs": [
    {
     "name": "stdout",
     "output_type": "stream",
     "text": [
      "[]\n",
      "0\n",
      "[0]\n",
      "1\n",
      "[0, 1]\n",
      "2\n",
      "[]\n",
      "3\n",
      "[3]\n",
      "4\n",
      "Following are connected components\n",
      "[[0, 1, 2], [3, 4]]\n"
     ]
    }
   ],
   "source": [
    "\n",
    "class Graph:\n",
    "    def __init__(self, V):\n",
    "        self.V = V\n",
    "        self.adj = [[] for i in range(V)]\n",
    " \n",
    "    def DFSUtil(self, temp, v, visited):\n",
    "        \n",
    "        visited[v] = True\n",
    "        temp.append(v)\n",
    "        print(temp)\n",
    "        print(v)\n",
    "        for i in self.adj[v]:\n",
    "            if visited[i] == False:\n",
    " \n",
    "                # Update the list\n",
    "                temp = self.DFSUtil(temp, i, visited)\n",
    "        return temp\n",
    "\n",
    "    def addEdge(self, v, w):\n",
    "        self.adj[v].append(w)\n",
    "        self.adj[w].append(v)\n",
    " \n",
    "    def connectedComponents(self):\n",
    "        visited = []\n",
    "        cc = []\n",
    "        for i in range(self.V):\n",
    "            visited.append(False)\n",
    "        for v in range(self.V):\n",
    "            if visited[v] == False:\n",
    "                temp = []\n",
    "                cc.append(self.DFSUtil(temp, v, visited))\n",
    "        return cc\n",
    " \n",
    " \n",
    "if __name__ == \"__main__\":\n",
    "    g = Graph(5)\n",
    "    g.addEdge(1, 0)\n",
    "    g.addEdge(2, 1)\n",
    "    g.addEdge(3, 4)\n",
    "    cc = g.connectedComponents()\n",
    "    print(\"Following are connected components\")\n",
    "    print(cc)\n",
    " "
   ]
  }
 ],
 "metadata": {
  "kernelspec": {
   "display_name": "Python 3 (ipykernel)",
   "language": "python",
   "name": "python3"
  },
  "language_info": {
   "codemirror_mode": {
    "name": "ipython",
    "version": 3
   },
   "file_extension": ".py",
   "mimetype": "text/x-python",
   "name": "python",
   "nbconvert_exporter": "python",
   "pygments_lexer": "ipython3",
   "version": "3.10.5"
  }
 },
 "nbformat": 4,
 "nbformat_minor": 5
}
